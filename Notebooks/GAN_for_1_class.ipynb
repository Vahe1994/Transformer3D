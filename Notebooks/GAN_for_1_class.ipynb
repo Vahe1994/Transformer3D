{
 "cells": [
  {
   "cell_type": "code",
   "execution_count": 1,
   "metadata": {},
   "outputs": [],
   "source": [
    "import numpy as np\n",
    "import torch, torch.nn as nn\n",
    "import torch.nn.functional as F\n",
    "import torch, torch.nn as nn\n",
    "import torch.nn.functional as F\n",
    "from torch.autograd import Variable\n",
    "import sys\n",
    "sys.path.append('../external/Transformer_modules/')\n",
    "sys.path.append('../src/')\n",
    "from modules import MultiHeadAttention, PositionwiseFeedForward\n",
    "import mnist"
   ]
  },
  {
   "cell_type": "code",
   "execution_count": null,
   "metadata": {},
   "outputs": [],
   "source": [
    "%load_ext autoreload\n",
    "%autoreload 2"
   ]
  },
  {
   "cell_type": "code",
   "execution_count": 2,
   "metadata": {},
   "outputs": [],
   "source": [
    "x_train = mnist.make_clouds(mnist.x_train,500) \n",
    "y_train = mnist.y_train\n",
    "x_val = mnist.make_clouds(mnist.x_val,500) \n",
    "y_val = mnist.y_val"
   ]
  },
  {
   "cell_type": "code",
   "execution_count": 3,
   "metadata": {},
   "outputs": [],
   "source": [
    "class GlobalAveragePooling(nn.Module):\n",
    "    def __init__(self, dim=-1):\n",
    "        super(self.__class__, self).__init__()\n",
    "        self.dim = dim\n",
    "        \n",
    "    def forward(self, x):\n",
    "        return x.mean(dim=self.dim)"
   ]
  },
  {
   "cell_type": "code",
   "execution_count": 4,
   "metadata": {},
   "outputs": [],
   "source": [
    "class Discriminator(nn.Module):\n",
    "    def __init__(self, in_dim, \n",
    "                 hidden_dim=100,\n",
    "                 ffn_dim =200,\n",
    "                 n_head=8,\n",
    "                 normalize_loc=True,\n",
    "                 normalize_scale=True):\n",
    "        super(Discriminator, self).__init__()\n",
    "        self.normalize_loc = normalize_loc\n",
    "        self.normalize_scale = normalize_scale\n",
    "        self.fc1 = nn.Linear(in_dim, hidden_dim)\n",
    "        nn.init.xavier_normal_(self.fc1.weight)\n",
    "        nn.init.constant_(self.fc1.bias, 0.0)\n",
    "        \n",
    "        self.mha_1 = MultiHeadAttention(n_head=n_head,d_model = hidden_dim)\n",
    "        self.ffn_1 = PositionwiseFeedForward(hidden_dim, ffn_dim, use_residual=False)\n",
    "        self.mha_2 = MultiHeadAttention(n_head=n_head,d_model = hidden_dim)\n",
    "        self.ffn_2 = PositionwiseFeedForward(hidden_dim, ffn_dim, use_residual=False)\n",
    "        \n",
    "        self.gl_1 =  GlobalAveragePooling(dim = 1)\n",
    "        \n",
    "        self.fc2 = nn.Linear(hidden_dim, 2)\n",
    "        nn.init.xavier_normal_(self.fc2.weight)\n",
    "        nn.init.constant_(self.fc2.bias, 0.0)\n",
    "        \n",
    "    def forward(self, x):\n",
    "        if self.normalize_loc:\n",
    "            x = x - x.mean(dim=1, keepdim=True)\n",
    "        if self.normalize_scale:\n",
    "            x = x / x.std(dim=1, keepdim=True)\n",
    "        \n",
    "        h1 = F.relu(self.fc1(x))\n",
    "        h2 = self.mha_1(h1)\n",
    "        h3 = self.ffn_1(h2)\n",
    "        h4 = self.mha_2(h3)\n",
    "        h5 = self.ffn_2(h4)\n",
    "        score = self.fc2(self.gl_1(h5))\n",
    "        return score\n",
    "        "
   ]
  },
  {
   "cell_type": "code",
   "execution_count": 5,
   "metadata": {},
   "outputs": [],
   "source": [
    "class Generator(nn.Module):\n",
    "    def __init__(self, in_dim, hidden_dim=100,ffn_dim =200,n_head=8):\n",
    "        super(Generator, self).__init__()\n",
    "        self.fc1 = nn.Linear(in_dim, hidden_dim)\n",
    "        nn.init.xavier_normal_(self.fc1.weight)\n",
    "        nn.init.constant_(self.fc1.bias, 0.0)\n",
    "        \n",
    "        self.mha_1 = MultiHeadAttention(n_head=n_head,d_model = hidden_dim)\n",
    "        self.ffn_1 = PositionwiseFeedForward(hidden_dim, ffn_dim, use_residual=False)\n",
    "        self.mha_2 = MultiHeadAttention(n_head=n_head,d_model = hidden_dim)\n",
    "        self.ffn_2 = PositionwiseFeedForward(hidden_dim, ffn_dim, use_residual=False)\n",
    "        self.mha_3 = MultiHeadAttention(n_head=n_head,d_model = hidden_dim)\n",
    "        self.ffn_3 = PositionwiseFeedForward(hidden_dim, ffn_dim, use_residual=False)\n",
    "\n",
    "        \n",
    "        self.fc2 = nn.Linear(hidden_dim, in_dim)\n",
    "        nn.init.xavier_normal_(self.fc2.weight)\n",
    "        nn.init.constant_(self.fc2.bias, 0.0)\n",
    "        \n",
    "    def forward(self, x):\n",
    "        h = F.relu(self.fc1(x))\n",
    "        h = self.mha_1(h)\n",
    "        h = self.ffn_1(h)\n",
    "        h = self.mha_2(h)\n",
    "        h = self.ffn_2(h)\n",
    "        h = self.mha_3(h)\n",
    "        h = self.ffn_3(h)\n",
    "        score = self.fc2(h)\n",
    "        return score\n",
    "        "
   ]
  },
  {
   "cell_type": "code",
   "execution_count": 6,
   "metadata": {},
   "outputs": [],
   "source": [
    "def iterate_minibatches(X, y, batchsize):\n",
    "    indices = np.random.permutation(np.arange(len(X)))\n",
    "    for start in range(0, len(indices), batchsize):\n",
    "        ix = indices[start: start + batchsize]\n",
    "        yield X[ix], y[ix]"
   ]
  },
  {
   "cell_type": "code",
   "execution_count": 7,
   "metadata": {},
   "outputs": [],
   "source": [
    "in_dim = 2\n",
    "hidden_dim = 100\n",
    "ffn_dim = 200\n",
    "n_head = 8\n",
    "\n",
    "disc = Discriminator(in_dim, hidden_dim).cuda(1)"
   ]
  },
  {
   "cell_type": "code",
   "execution_count": 8,
   "metadata": {},
   "outputs": [],
   "source": [
    "in_dim = 2\n",
    "hidden_dim = 64\n",
    "ffn_dim = 128\n",
    "n_head = 8\n",
    "\n",
    "gen = Generator(in_dim, hidden_dim).cuda(1)"
   ]
  },
  {
   "cell_type": "code",
   "execution_count": 9,
   "metadata": {},
   "outputs": [],
   "source": [
    "# y_train = y_train.detach().numpy()\n",
    "x_train = x_train[y_train==5]\n",
    "y_train = y_train[y_train==5]\n"
   ]
  },
  {
   "cell_type": "code",
   "execution_count": 16,
   "metadata": {},
   "outputs": [],
   "source": [
    "# gen_opt = torch.optim.Adam(gen.parameters(), lr=1e-4)\n",
    "gen_opt = torch.optim.SGD(gen.parameters(), lr=1e-6)\n",
    "disc_opt = torch.optim.SGD(disc.parameters(), lr=0.001)"
   ]
  },
  {
   "cell_type": "code",
   "execution_count": null,
   "metadata": {},
   "outputs": [
    {
     "data": {
      "image/png": "[encoded data removed]",
      "text/plain": [
       "<matplotlib.figure.Figure at 0x7f14806ef7d0>"
      ]
     },
     "metadata": {},
     "output_type": "display_data"
    },
    {
     "name": "stdout",
     "output_type": "stream",
     "text": [
      "tensor([ 0.7944,  0.2056], device='cuda:1')\n"
     ]
    }
   ],
   "source": [
    "from IPython.display import clear_output\n",
    "from tqdm import trange\n",
    "import matplotlib.pyplot as plt\n",
    "%matplotlib inline\n",
    "IS_FAKE, IS_REAL = 0, 1\n",
    "# noise =  torch.rand(target.shape).cuda(1)\n",
    "for epoch_i in trange(1000):\n",
    "    for j,(x_tr,y_tr) in enumerate(iterate_minibatches(x_train,y_train,batchsize=50)):\n",
    "        target = Variable(torch.FloatTensor(x_tr)).cuda(1)\n",
    "        for i in range(10):\n",
    "            noise =  torch.rand(target.shape).cuda(1)\n",
    "            gen_data =   gen(noise)\n",
    "\n",
    "            loss_disc = - F.log_softmax(disc(target), 1)[:, IS_REAL].mean() \\\n",
    "                        - F.log_softmax(disc(gen_data), 1)[:, IS_FAKE].mean()\n",
    "\n",
    "            disc_opt.zero_grad()\n",
    "            loss_disc.backward()\n",
    "            disc_opt.step()\n",
    "\n",
    "\n",
    "        for i in range(1):\n",
    "            noise =  torch.rand(target.shape).cuda(1)\n",
    "            gen_data =   gen(noise)\n",
    "\n",
    "            loss_gen = - F.log_softmax(disc(gen_data), 1)[:, IS_REAL].mean()\n",
    "            gen_opt.zero_grad()\n",
    "            loss_gen.backward()\n",
    "            gen_opt.step()\n",
    "    \n",
    "        if j % 2 != 0: continue\n",
    "        noise =  torch.rand(target.shape).cuda(1)\n",
    "        gen_data =   gen(noise)\n",
    "        clear_output(True)\n",
    "        _x, _y = gen_data[:1].data.cpu().numpy()[0].T\n",
    "        plt.scatter(_x, -_y)\n",
    "\n",
    "        plt.show()\n",
    "        print(torch.mean(F.softmax(disc(gen_data), 1),0))\n"
   ]
  }
 ],
 "metadata": {
  "kernelspec": {
   "display_name": "Python 2",
   "language": "python",
   "name": "python2"
  },
  "language_info": {
   "codemirror_mode": {
    "name": "ipython",
    "version": 2
   },
   "file_extension": ".py",
   "mimetype": "text/x-python",
   "name": "python",
   "nbconvert_exporter": "python",
   "pygments_lexer": "ipython2",
   "version": "2.7.14"
  }
 },
 "nbformat": 4,
 "nbformat_minor": 2
}
