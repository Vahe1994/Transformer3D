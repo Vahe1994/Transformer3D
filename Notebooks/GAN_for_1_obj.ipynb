{
 "cells": [
  {
   "cell_type": "code",
   "execution_count": null,
   "metadata": {},
   "outputs": [],
   "source": [
    "import numpy as np\n",
    "import torch, torch.nn as nn\n",
    "import torch.nn.functional as F\n",
    "import sys\n",
    "sys.path.append('../external/Transformer_modules/')\n",
    "sys.path.append('../src/')\n",
    "from modules import MultiHeadAttention, PositionwiseFeedForward\n",
    "import torch, torch.nn as nn\n",
    "import torch.nn.functional as F\n",
    "from torch.autograd import Variable\n",
    "import mnist"
   ]
  },
  {
   "cell_type": "code",
   "execution_count": null,
   "metadata": {},
   "outputs": [],
   "source": [
    "%load_ext autoreload\n",
    "%autoreload 2"
   ]
  },
  {
   "cell_type": "code",
   "execution_count": null,
   "metadata": {},
   "outputs": [],
   "source": [
    "x_train = mnist.make_clouds(mnist.x_train,500) \n",
    "y_train = mnist.y_train\n",
    "x_val = mnist.make_clouds(mnist.x_val,500) \n",
    "y_val = mnist.y_val"
   ]
  },
  {
   "cell_type": "code",
   "execution_count": null,
   "metadata": {},
   "outputs": [],
   "source": [
    "import torch, torch.nn as nn\n",
    "import torch.nn.functional as F\n",
    "from torch.autograd import Variable\n",
    "\n",
    "class GlobalAveragePooling(nn.Module):\n",
    "    def __init__(self, dim=-1):\n",
    "        super(self.__class__, self).__init__()\n",
    "        self.dim = dim\n",
    "        \n",
    "    def forward(self, x):\n",
    "        return x.mean(dim=self.dim)"
   ]
  },
  {
   "cell_type": "code",
   "execution_count": null,
   "metadata": {},
   "outputs": [],
   "source": [
    "class Discriminator(nn.Module):\n",
    "    def __init__(self, in_dim, hidden_dim=100,ffn_dim =200,n_head=8):\n",
    "        super(Discriminator, self).__init__()\n",
    "        self.fc1 = nn.Linear(in_dim, hidden_dim)\n",
    "        nn.init.xavier_normal_(self.fc1.weight)\n",
    "        nn.init.constant_(self.fc1.bias, 0.0)\n",
    "        \n",
    "        self.mha_1 = MultiHeadAttention(n_head=n_head,d_model = hidden_dim)\n",
    "        self.ffn_1 = PositionwiseFeedForward(hidden_dim, ffn_dim, use_residual=False)\n",
    "        self.mha_2 = MultiHeadAttention(n_head=n_head,d_model = hidden_dim)\n",
    "        self.ffn_2 = PositionwiseFeedForward(hidden_dim, ffn_dim, use_residual=False)\n",
    "        \n",
    "        self.gl_1 =  GlobalAveragePooling(dim = 1)\n",
    "        \n",
    "        self.fc2 = nn.Linear(hidden_dim, 2)\n",
    "        nn.init.xavier_normal_(self.fc2.weight)\n",
    "        nn.init.constant_(self.fc2.bias, 0.0)\n",
    "        \n",
    "    def forward(self, x):\n",
    "        h1 = F.relu(self.fc1(x))\n",
    "        h2 = self.mha_1(h1)\n",
    "        h3 = self.ffn_1(h2)\n",
    "        h4 = self.mha_1(h3)\n",
    "        h5 = self.ffn_1(h4)\n",
    "        score = self.fc2(self.gl_1(h5))\n",
    "        return score\n",
    "        "
   ]
  },
  {
   "cell_type": "code",
   "execution_count": null,
   "metadata": {},
   "outputs": [],
   "source": [
    "class Generator(nn.Module):\n",
    "    def __init__(self, in_dim, hidden_dim=100,ffn_dim =200,n_head=8):\n",
    "        super(Generator, self).__init__()\n",
    "        self.fc1 = nn.Linear(in_dim, hidden_dim)\n",
    "        nn.init.xavier_normal_(self.fc1.weight)\n",
    "        nn.init.constant_(self.fc1.bias, 0.0)\n",
    "        \n",
    "        self.mha_1 = MultiHeadAttention(n_head=n_head,d_model = hidden_dim)\n",
    "        self.ffn_1 = PositionwiseFeedForward(hidden_dim, ffn_dim, use_residual=False)\n",
    "        self.mha_2 = MultiHeadAttention(n_head=n_head,d_model = hidden_dim)\n",
    "        self.ffn_2 = PositionwiseFeedForward(hidden_dim, ffn_dim, use_residual=False)\n",
    "\n",
    "        \n",
    "        self.fc2 = nn.Linear(hidden_dim, in_dim)\n",
    "        nn.init.xavier_normal_(self.fc2.weight)\n",
    "        nn.init.constant_(self.fc2.bias, 0.0)\n",
    "        self.bn = nn.BatchNorm1d(in_dim)\n",
    "        \n",
    "    def forward(self, x):\n",
    "        h1 = F.relu(self.fc1(x))\n",
    "        h2 = self.mha_1(h1)\n",
    "        h3 = self.ffn_1(h2)\n",
    "        h4 = self.mha_1(h3)\n",
    "        h5 = self.ffn_1(h4)\n",
    "        score = self.bn(self.fc2(h5))\n",
    "        return score     "
   ]
  },
  {
   "cell_type": "code",
   "execution_count": null,
   "metadata": {},
   "outputs": [],
   "source": [
    "in_dim = 2\n",
    "hidden_dim = 100\n",
    "ffn_dim = 200\n",
    "n_head = 8\n",
    "\n",
    "disc = Discriminator(in_dim, hidden_dim).cuda(1)"
   ]
  },
  {
   "cell_type": "code",
   "execution_count": null,
   "metadata": {},
   "outputs": [],
   "source": [
    "in_dim = 2\n",
    "hidden_dim = 100\n",
    "ffn_dim = 200\n",
    "n_head = 8\n",
    "\n",
    "gen = Generator(in_dim, hidden_dim).cuda(1)"
   ]
  },
  {
   "cell_type": "code",
   "execution_count": null,
   "metadata": {},
   "outputs": [],
   "source": [
    "\n",
    "target = Variable(torch.FloatTensor(x_train[2:3])).cuda(1)\n",
    "\n",
    "noise =  torch.rand(target.shape).cuda(1)"
   ]
  },
  {
   "cell_type": "code",
   "execution_count": null,
   "metadata": {},
   "outputs": [],
   "source": [
    "gen_opt = torch.optim.Adam(gen.parameters(), lr=1e-4)\n",
    "disc_opt = torch.optim.SGD(disc.parameters(), lr=0.001)"
   ]
  },
  {
   "cell_type": "code",
   "execution_count": null,
   "metadata": {},
   "outputs": [],
   "source": [
    "try:\n",
    "    for epoch in range(num_epochs):\n",
    "        ls_g=[]\n",
    "        ls_d=[]\n",
    "        for input_data,info in iterate_minibatches(data, batch_size,inform):\n",
    "\n",
    "            # Optimize D\n",
    "\n",
    "            for _ in range(k_d):\n",
    "                # Sample noise\n",
    "                if not (info is None):\n",
    "                    noise = Variable(torch.cat((torch.Tensor(sample_noise(len(input_data))),torch.Tensor(info)),1).cuda())\n",
    "                else:\n",
    "                    noise = Variable(torch.Tensor(sample_noise(len(input_data))).cuda())\n",
    "\n",
    "                # Do an update\n",
    "\n",
    "                inp_data = Variable(torch.Tensor(input_data).cuda())\n",
    "                data_gen = self.generator(noise)\n",
    "\n",
    "                loss = d_loss(self.discriminator(data_gen,TASK = TASK), self.discriminator(inp_data,TASK = TASK),TASK)\n",
    "                ls_d.append(loss.data.cpu().numpy()[0])\n",
    "                d_optimizer.zero_grad()\n",
    "                loss.backward()\n",
    "                d_optimizer.step()\n",
    "                if TASK == 3:\n",
    "                    self.discriminator.apply(self.clipper,TASK = TASK)\n",
    "\n",
    "\n",
    "            # Optimize G\n",
    "            for _ in range(k_g):\n",
    "                # Sample noise\n",
    "                if not (info is None):\n",
    "                    noise = Variable(torch.cat((torch.Tensor(sample_noise(len(input_data))),torch.Tensor(info)),1).cuda())\n",
    "                else:\n",
    "                    noise = Variable(torch.Tensor(sample_noise(len(input_data))).cuda())\n",
    "\n",
    "                # Do an update\n",
    "                data_gen = self.generator(noise)\n",
    "                if not (info is None):\n",
    "                     loss = g_loss(self.discriminator(data_gen + Variable(torch.Tensor(info).cuda(), requires_grad=False),TASK = TASK),TASK)\n",
    "                else:\n",
    "                    loss = g_loss(self.discriminator(data_gen,TASK = TASK),TASK)\n",
    "                ls_g.append(loss.data.cpu().numpy()[0])\n",
    "                g_optimizer.zero_grad()\n",
    "                loss.backward()\n",
    "                g_optimizer.step()\n",
    "        if(epoch%10==0):\n",
    "            print('generator_loss:',np.mean(ls_g),'discriminator_loss',np.mean(ls_d))\n",
    "except KeyboardInterrupt:\n",
    "    pass"
   ]
  },
  {
   "cell_type": "code",
   "execution_count": null,
   "metadata": {},
   "outputs": [],
   "source": [
    "import matplotlib.pyplot as plt\n",
    "%matplotlib inline\n",
    "plt.subplot(1,2,1)\n",
    "_x, _y = target.data.cpu().numpy()[0].T\n",
    "plt.scatter(_x, -_y)\n",
    "plt.subplot(1,2,2)\n",
    "_x, _y = my_cloud[:1].data.cpu().numpy()[0].T\n",
    "plt.scatter(_x, -_y)"
   ]
  },
  {
   "cell_type": "code",
   "execution_count": null,
   "metadata": {},
   "outputs": [],
   "source": [
    "cloud_opt = torch.optim.Adam([my_cloud], lr=1e-3)\n",
    "disc_opt = torch.optim.SGD(disc.parameters(), lr=0.001)"
   ]
  },
  {
   "cell_type": "code",
   "execution_count": null,
   "metadata": {},
   "outputs": [],
   "source": [
    "from IPython.display import clear_output\n",
    "from tqdm import trange\n",
    "IS_FAKE, IS_REAL = 0, 1\n",
    "\n",
    "for epoch_i in trange(1000):\n",
    "    for i in range(100):\n",
    "        loss_disc = - F.log_softmax(disc(target), 1)[:, IS_REAL].mean() \\\n",
    "                    - F.log_softmax(disc(my_cloud), 1)[:, IS_FAKE].mean()\n",
    "\n",
    "        disc_opt.zero_grad()\n",
    "        loss_disc.backward()\n",
    "        disc_opt.step()\n",
    "\n",
    "    for i in range(10):\n",
    "        loss_gen = - F.log_softmax(disc(my_cloud), 1)[:, IS_REAL].mean()\n",
    "        cloud_opt.zero_grad()\n",
    "        loss_gen.backward()\n",
    "        cloud_opt.step()\n",
    "\n",
    "\n",
    "\n",
    "    clear_output(True)\n",
    "    plt.subplot(1,2,1)\n",
    "    _x, _y = target.data.cpu().numpy()[0].T\n",
    "    plt.scatter(_x, -_y)\n",
    "    plt.ylim(-1, 0)\n",
    "    plt.xlim(0, 1)\n",
    "    plt.subplot(1,2,2)\n",
    "    _x, _y = my_cloud[:1].data.cpu().numpy()[0].T\n",
    "    plt.scatter(_x, -_y)\n",
    "    plt.ylim(-1, 0)\n",
    "    plt.xlim(0, 1)\n",
    "    plt.show()"
   ]
  }
 ],
 "metadata": {
  "kernelspec": {
   "display_name": "Python 2",
   "language": "python",
   "name": "python2"
  },
  "language_info": {
   "codemirror_mode": {
    "name": "ipython",
    "version": 2
   },
   "file_extension": ".py",
   "mimetype": "text/x-python",
   "name": "python",
   "nbconvert_exporter": "python",
   "pygments_lexer": "ipython2",
   "version": "2.7.14"
  }
 },
 "nbformat": 4,
 "nbformat_minor": 2
}
